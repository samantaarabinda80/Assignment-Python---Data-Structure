{
  "nbformat": 4,
  "nbformat_minor": 0,
  "metadata": {
    "colab": {
      "provenance": []
    },
    "kernelspec": {
      "name": "python3",
      "display_name": "Python 3"
    },
    "language_info": {
      "name": "python"
    }
  },
  "cells": [
    {
      "cell_type": "markdown",
      "source": [
        "##Data Types and Structures Questions"
      ],
      "metadata": {
        "id": "tV1avLwlzCXY"
      }
    },
    {
      "cell_type": "markdown",
      "source": [
        "##1. What are data structures, and why are they important?\n",
        "Data structures are ways of organizing and storing data so that they can be accessed and modified efficiently. They are essential because they enable better data management, speed up processing, and help solve problems like searching, sorting, and indexing."
      ],
      "metadata": {
        "id": "m-UqKgonzDrj"
      }
    },
    {
      "cell_type": "markdown",
      "source": [
        "##2. Difference between mutable and immutable data types with examples\n",
        "Mutable data types can be changed after creation (e.g., list, dict, set).\n",
        "Immutable data types cannot be changed after creation (e.g., int, float, str, tuple).\n",
        "##Example:"
      ],
      "metadata": {
        "id": "84TDGFRM0LNW"
      }
    },
    {
      "cell_type": "code",
      "source": [
        "x = [1, 2]      # Mutable\n",
        "x.append(3)     # x becomes [1, 2, 3]\n",
        "\n",
        "y = \"hello\"     # Immutable\n",
        "y[0] = \"H\"      # ❌ Error: strings are immutable\n"
      ],
      "metadata": {
        "id": "6R29kfQh0uPs"
      },
      "execution_count": null,
      "outputs": []
    },
    {
      "cell_type": "markdown",
      "source": [
        "##3. Main differences between lists and tuples in Python\n",
        "In Python, both lists and tuples are used to store collections of items, but they differ in several key ways. The most significant difference is that lists are mutable, meaning their contents can be changed after creation — you can add, remove, or modify elements. In contrast, tuples are immutable, which means once a tuple is created, its elements cannot be altered. This makes tuples faster and more memory-efficient than lists, especially when dealing with fixed collections of items.\n",
        "\n",
        "The syntax also varies slightly: lists are defined using square brackets [], while tuples use parentheses (). For example, a list would look like my_list = [1, 2, 3] and a tuple would be my_tuple = (1, 2, 3). Due to their immutability, tuples are often used to store data that should not be changed, such as the days of the week or coordinates, ensuring data integrity. Lists, on the other hand, are preferred when working with dynamic collections where updates are frequent."
      ],
      "metadata": {
        "id": "OfpLpb1F0Lq4"
      }
    },
    {
      "cell_type": "markdown",
      "source": [
        "##4. How do dictionaries store data?\n",
        "Dictionaries store data in key-value pairs using a hash table structure, which allows for fast access using unique keys."
      ],
      "metadata": {
        "id": "krLH0PL60L37"
      }
    },
    {
      "cell_type": "markdown",
      "source": [
        "##5. Why might you use a set instead of a list in Python?\n",
        "Sets are faster for membership checks and automatically remove duplicates, making them ideal when uniqueness is needed.\n",
        "\n"
      ],
      "metadata": {
        "id": "-2NKWk2I0L7W"
      }
    },
    {
      "cell_type": "markdown",
      "source": [
        "##6. What is a string in Python, and how is it different from a list?\n",
        "A string is a sequence of characters (immutable), while a list can contain elements of any type and is mutable. Strings can’t be changed, but lists can."
      ],
      "metadata": {
        "id": "YGqG12cz1fyY"
      }
    },
    {
      "cell_type": "markdown",
      "source": [
        "##7. How do tuples ensure data integrity in Python?\n",
        "Tuples are immutable, which means their data cannot be changed after creation, ensuring that critical data remains constant."
      ],
      "metadata": {
        "id": "hvNyT4IK1lRR"
      }
    },
    {
      "cell_type": "markdown",
      "source": [
        "##8. What is a hash table, and how does it relate to dictionaries in Python?\n",
        "A hash table stores data using a key-to-index mapping. Python’s dict uses hash tables to store key-value pairs, allowing O(1) access time.\n",
        "\n"
      ],
      "metadata": {
        "id": "SHA9wgFL1r08"
      }
    },
    {
      "cell_type": "markdown",
      "source": [
        "##9. Can lists contain different data types in Python?\n",
        "Yes, Python lists can store multiple types like int, str, float, or even other lists."
      ],
      "metadata": {
        "id": "yg4bBDIc1yeG"
      }
    },
    {
      "cell_type": "markdown",
      "source": [
        "##10. Why are strings immutable in Python?\n",
        "Strings are immutable for performance and security reasons. Each modification creates a new object, which avoids unexpected behavior."
      ],
      "metadata": {
        "id": "Y-_BFG_c121J"
      }
    },
    {
      "cell_type": "markdown",
      "source": [
        "##11. Advantages of dictionaries over lists\n",
        "Faster lookup with keys\n",
        "\n",
        "More readable key-value pairing\n",
        "\n",
        "Ideal for structured data (e.g., JSON-like)"
      ],
      "metadata": {
        "id": "90Os8UQZ16bR"
      }
    },
    {
      "cell_type": "markdown",
      "source": [
        "##12. When to use a tuple over a list\n",
        "When you want data to remain constant, such as coordinates or configurations that shouldn’t change.\n",
        "\n"
      ],
      "metadata": {
        "id": "scP2f4qX2LvQ"
      }
    },
    {
      "cell_type": "markdown",
      "source": [
        "##13. How do sets handle duplicate values?\n",
        "Sets automatically remove duplicate entries and keep only unique values."
      ],
      "metadata": {
        "id": "4Jx662EP2R5i"
      }
    },
    {
      "cell_type": "markdown",
      "source": [
        "##14. How does the “in” keyword work for lists and dictionaries?\n",
        "For lists: checks if a value exists.\n",
        "\n",
        "For dicts: checks if a key exists."
      ],
      "metadata": {
        "id": "M9h20lQT2XEQ"
      }
    },
    {
      "cell_type": "markdown",
      "source": [
        "##15. Can you modify elements of a tuple?\n",
        "No, tuples are immutable, so once created, their elements cannot be changed.\n",
        "\n"
      ],
      "metadata": {
        "id": "k5n2mcKj2csw"
      }
    },
    {
      "cell_type": "markdown",
      "source": [
        "##16. What is a nested dictionary? Example:\n",
        "A dictionary inside another dictionary."
      ],
      "metadata": {
        "id": "Mc9FEqrk2h26"
      }
    },
    {
      "cell_type": "code",
      "source": [
        "student = {\n",
        "  \"name\": \"Alex\",\n",
        "  \"grades\": {\n",
        "    \"math\": 90,\n",
        "    \"science\": 95\n",
        "  }\n",
        "}\n"
      ],
      "metadata": {
        "id": "4i9bfFj82w7M"
      },
      "execution_count": null,
      "outputs": []
    },
    {
      "cell_type": "markdown",
      "source": [
        "##17. Time complexity of accessing dictionary elements\n",
        "Accessing elements in a dictionary is O(1) on average, due to its hash table structure."
      ],
      "metadata": {
        "id": "xjQL3kwb2ywq"
      }
    },
    {
      "cell_type": "markdown",
      "source": [
        "##19. Why are dictionaries unordered and how does that affect retrieval?\n",
        "Until Python 3.6, dictionaries were unordered. Now they preserve insertion order but still rely on hashing, not index-based access.\n",
        "\n"
      ],
      "metadata": {
        "id": "Z-3UO_-m25Ut"
      }
    },
    {
      "cell_type": "markdown",
      "source": [
        "##20. Difference between list and dictionary (data retrieval)\n",
        "List: Access using index (my_list[0])\n",
        "\n",
        "Dictionary: Access using key (my_dict[\"name\"])"
      ],
      "metadata": {
        "id": "v6yzdOxA29Uw"
      }
    },
    {
      "cell_type": "markdown",
      "source": [
        " ## Practical Questions"
      ],
      "metadata": {
        "id": "6dpeeA5p3FQB"
      }
    },
    {
      "cell_type": "code",
      "source": [
        "#1.Write a code to create a string with your name and print it\n",
        "name = \"arabinda\"\n",
        "print(name)\n"
      ],
      "metadata": {
        "colab": {
          "base_uri": "https://localhost:8080/"
        },
        "id": "f8NXQ7Jd3Y2L",
        "outputId": "c90e2113-bdc8-496f-8b3a-2ed05b6c596b"
      },
      "execution_count": 4,
      "outputs": [
        {
          "output_type": "stream",
          "name": "stdout",
          "text": [
            "arabinda\n"
          ]
        }
      ]
    },
    {
      "cell_type": "code",
      "source": [
        "#2. Write a code to find the length of the string \"Hello World\"\n",
        "s = \"Hello World\"\n",
        "print(len(s))\n"
      ],
      "metadata": {
        "colab": {
          "base_uri": "https://localhost:8080/"
        },
        "id": "llMnmWhP3kds",
        "outputId": "f269fd1f-fce0-4d7b-893f-5d76313fe0a2"
      },
      "execution_count": 5,
      "outputs": [
        {
          "output_type": "stream",
          "name": "stdout",
          "text": [
            "11\n"
          ]
        }
      ]
    },
    {
      "cell_type": "code",
      "source": [
        "#3. Write a code to slice the first 3 characters from the string \"Python Programming\"\n",
        "s = \"Python Programming\"\n",
        "print(s[:3])\n"
      ],
      "metadata": {
        "colab": {
          "base_uri": "https://localhost:8080/"
        },
        "id": "USp-eDR234Tn",
        "outputId": "fd2b010d-edc1-42ef-fe42-bd0c8cce114b"
      },
      "execution_count": 6,
      "outputs": [
        {
          "output_type": "stream",
          "name": "stdout",
          "text": [
            "Pyt\n"
          ]
        }
      ]
    },
    {
      "cell_type": "code",
      "source": [
        "#4. Write a code to convert the string \"hello\" to uppercase\n",
        "print(\"hello\".upper())\n"
      ],
      "metadata": {
        "colab": {
          "base_uri": "https://localhost:8080/"
        },
        "id": "q5_uAY1e4Dcu",
        "outputId": "21f4e7a5-9d7f-45eb-c605-42ae6472df63"
      },
      "execution_count": 9,
      "outputs": [
        {
          "output_type": "stream",
          "name": "stdout",
          "text": [
            "HELLO\n"
          ]
        }
      ]
    },
    {
      "cell_type": "code",
      "source": [
        "#5. Write a code to replace the word \"apple\" with \"orange\" in the string \"I like apple\"\n",
        "text = \"I like apple\"\n",
        "print(text.replace(\"apple\", \"orange\"))\n"
      ],
      "metadata": {
        "colab": {
          "base_uri": "https://localhost:8080/"
        },
        "id": "GixDJJPu4MJi",
        "outputId": "8d98353d-4476-4a42-def0-3bfddb679baa"
      },
      "execution_count": 10,
      "outputs": [
        {
          "output_type": "stream",
          "name": "stdout",
          "text": [
            "I like orange\n"
          ]
        }
      ]
    },
    {
      "cell_type": "code",
      "source": [
        "#6. Write a code to create a list with numbers 1 to 5 and print it\n",
        "lst = [1, 2, 3, 4, 5]\n",
        "print(lst)\n"
      ],
      "metadata": {
        "colab": {
          "base_uri": "https://localhost:8080/"
        },
        "id": "dbw3H_O-4baO",
        "outputId": "4d5ff3db-0977-4056-9af5-525453ff6e13"
      },
      "execution_count": 11,
      "outputs": [
        {
          "output_type": "stream",
          "name": "stdout",
          "text": [
            "[1, 2, 3, 4, 5]\n"
          ]
        }
      ]
    },
    {
      "cell_type": "code",
      "source": [
        "#7.Write a code to append the number 10 to the list [1, 2, 3, 4]\n",
        "lst = [1, 2, 3, 4]\n",
        "lst.append(10)\n",
        "print(lst)\n"
      ],
      "metadata": {
        "colab": {
          "base_uri": "https://localhost:8080/"
        },
        "id": "kCjKjuFL4oPa",
        "outputId": "30b7320c-740d-4189-d0bf-b6038de1fa23"
      },
      "execution_count": 12,
      "outputs": [
        {
          "output_type": "stream",
          "name": "stdout",
          "text": [
            "[1, 2, 3, 4, 10]\n"
          ]
        }
      ]
    },
    {
      "cell_type": "code",
      "source": [
        "#8.Write a code to remove the number 3 from the list [1, 2, 3, 4, 5]\n",
        "lst = [1, 2, 3, 4, 5]\n",
        "lst.remove(3)\n",
        "print(lst)\n"
      ],
      "metadata": {
        "colab": {
          "base_uri": "https://localhost:8080/"
        },
        "id": "SgNQdYNJ4v4y",
        "outputId": "36180510-7167-40fa-a937-4b9a0c08da9b"
      },
      "execution_count": 13,
      "outputs": [
        {
          "output_type": "stream",
          "name": "stdout",
          "text": [
            "[1, 2, 4, 5]\n"
          ]
        }
      ]
    },
    {
      "cell_type": "code",
      "source": [
        "#9.Write a code to access the second element in the list ['a', 'b', 'c', 'd']\n",
        "chars = ['a', 'b', 'c', 'd']\n",
        "print(chars[1])\n"
      ],
      "metadata": {
        "colab": {
          "base_uri": "https://localhost:8080/"
        },
        "id": "kUYVnkbM47NC",
        "outputId": "67163764-c4ff-4c8b-8bbf-a1fec69432af"
      },
      "execution_count": 14,
      "outputs": [
        {
          "output_type": "stream",
          "name": "stdout",
          "text": [
            "b\n"
          ]
        }
      ]
    },
    {
      "cell_type": "code",
      "source": [
        "#10.Write a code to reverse the list [10, 20, 30, 40, 50]\n",
        "lst = [10, 20, 30, 40, 50]\n",
        "lst.reverse()\n",
        "print(lst)\n"
      ],
      "metadata": {
        "colab": {
          "base_uri": "https://localhost:8080/"
        },
        "id": "9ag4yDK15HMj",
        "outputId": "c158f398-e450-4962-9435-492e86497fd7"
      },
      "execution_count": 15,
      "outputs": [
        {
          "output_type": "stream",
          "name": "stdout",
          "text": [
            "[50, 40, 30, 20, 10]\n"
          ]
        }
      ]
    },
    {
      "cell_type": "code",
      "source": [
        "#11. Write a code to create a tuple with the elements 100, 200, 300 and print it.\n",
        "tpl = (100, 200, 300)\n",
        "print(tpl)\n"
      ],
      "metadata": {
        "colab": {
          "base_uri": "https://localhost:8080/"
        },
        "id": "MSTm8B8C5OW1",
        "outputId": "a7dd8da4-a73a-45a7-cd10-cacf8821fe0a"
      },
      "execution_count": 1,
      "outputs": [
        {
          "output_type": "stream",
          "name": "stdout",
          "text": [
            "(100, 200, 300)\n"
          ]
        }
      ]
    },
    {
      "cell_type": "code",
      "source": [
        "#12. Write a code to access the second-to-last element of the tuple ('red', 'green', 'blue', 'yellow')\n",
        "colors = ('red', 'green', 'blue', 'yellow')\n",
        "print(colors[-2])\n"
      ],
      "metadata": {
        "colab": {
          "base_uri": "https://localhost:8080/"
        },
        "id": "i1YtBELK6Lwd",
        "outputId": "5836876c-1257-4036-cd8e-839fd01234e5"
      },
      "execution_count": 2,
      "outputs": [
        {
          "output_type": "stream",
          "name": "stdout",
          "text": [
            "blue\n"
          ]
        }
      ]
    },
    {
      "cell_type": "code",
      "source": [
        "#13. Write a code to find the minimum number in the tuple (10, 20, 5, 15).\n",
        "nums = (10, 20, 5, 15)\n",
        "print(min(nums))\n"
      ],
      "metadata": {
        "colab": {
          "base_uri": "https://localhost:8080/"
        },
        "id": "WUChkf-h6a8E",
        "outputId": "e7eb1322-e958-4054-b0b9-e713ecb7ad84"
      },
      "execution_count": 3,
      "outputs": [
        {
          "output_type": "stream",
          "name": "stdout",
          "text": [
            "5\n"
          ]
        }
      ]
    },
    {
      "cell_type": "code",
      "source": [
        "#14.Write a code to find the index of the element \"cat\" in the tuple ('dog', 'cat', 'rabbit').\n",
        "animals = ('dog', 'cat', 'rabbit')\n",
        "print(animals.index(\"cat\"))\n"
      ],
      "metadata": {
        "colab": {
          "base_uri": "https://localhost:8080/"
        },
        "id": "OpbfmV3t6kzB",
        "outputId": "11e7e460-9054-4c5e-cae0-564d29fd73bb"
      },
      "execution_count": 4,
      "outputs": [
        {
          "output_type": "stream",
          "name": "stdout",
          "text": [
            "1\n"
          ]
        }
      ]
    },
    {
      "cell_type": "code",
      "source": [
        "#15.Write a code to create a tuple containing three different fruits and check if \"kiwi\" is in it.\n",
        "fruits = ('apple', 'banana', 'kiwi')\n",
        "print(\"kiwi\" in fruits)\n"
      ],
      "metadata": {
        "colab": {
          "base_uri": "https://localhost:8080/"
        },
        "id": "mJMJn-Qg6uor",
        "outputId": "0a5b9b6f-1e8c-46b0-bec7-979a33ef65ba"
      },
      "execution_count": 6,
      "outputs": [
        {
          "output_type": "stream",
          "name": "stdout",
          "text": [
            "True\n"
          ]
        }
      ]
    },
    {
      "cell_type": "code",
      "source": [
        "#16. Write a code to create a set with the elements 'a', 'b', 'c' and print it.\n",
        "s = ('a', 'b', 'c')\n",
        "print(s)\n"
      ],
      "metadata": {
        "colab": {
          "base_uri": "https://localhost:8080/"
        },
        "id": "otOG2zms64-H",
        "outputId": "a30949ef-37f4-4f76-eb34-5286ae87c1bb"
      },
      "execution_count": 8,
      "outputs": [
        {
          "output_type": "stream",
          "name": "stdout",
          "text": [
            "('a', 'b', 'c')\n"
          ]
        }
      ]
    },
    {
      "cell_type": "code",
      "source": [
        "#17.Write a code to clear all elements from the set {1, 2, 3, 4, 5}.\n",
        "s = {1, 2, 3, 4, 5}\n",
        "s.clear()\n",
        "print(s)\n"
      ],
      "metadata": {
        "colab": {
          "base_uri": "https://localhost:8080/"
        },
        "id": "pzPGl8t_7IpK",
        "outputId": "d15e03f5-a4d5-4acf-b8c3-db5200c2b176"
      },
      "execution_count": 9,
      "outputs": [
        {
          "output_type": "stream",
          "name": "stdout",
          "text": [
            "set()\n"
          ]
        }
      ]
    },
    {
      "cell_type": "code",
      "source": [
        "#18. Write a code to remove the element 4 from the set {1, 2, 3, 4}.\n",
        "s = {1, 2, 3, 4}\n",
        "s.remove(4)\n",
        "print(s)\n"
      ],
      "metadata": {
        "colab": {
          "base_uri": "https://localhost:8080/"
        },
        "id": "EBZfsaKV7jaU",
        "outputId": "44c193d9-a6c2-4987-880c-282098f12926"
      },
      "execution_count": 10,
      "outputs": [
        {
          "output_type": "stream",
          "name": "stdout",
          "text": [
            "{1, 2, 3}\n"
          ]
        }
      ]
    },
    {
      "cell_type": "code",
      "source": [
        "#19.Write a code to find the union of two sets {1, 2, 3} and {3, 4, 5}.\n",
        "a = {1, 2, 3}\n",
        "b = {3, 4, 5}\n",
        "print(a.union(b))\n"
      ],
      "metadata": {
        "colab": {
          "base_uri": "https://localhost:8080/"
        },
        "id": "X2-FXb1w70tP",
        "outputId": "9f414132-1cda-44e9-d767-6609f2435bc8"
      },
      "execution_count": 11,
      "outputs": [
        {
          "output_type": "stream",
          "name": "stdout",
          "text": [
            "{1, 2, 3, 4, 5}\n"
          ]
        }
      ]
    },
    {
      "cell_type": "code",
      "source": [
        "#20. Write a code to find the intersection of two sets {1, 2, 3} and {2, 3, 4}.\n",
        "a = {1, 2, 3}\n",
        "b = {2, 3, 4}\n",
        "print(a.intersection(b))\n"
      ],
      "metadata": {
        "colab": {
          "base_uri": "https://localhost:8080/"
        },
        "id": "B0G8bMdm8ACk",
        "outputId": "74c4d959-c584-4dd7-e0a7-482b71bcc294"
      },
      "execution_count": 12,
      "outputs": [
        {
          "output_type": "stream",
          "name": "stdout",
          "text": [
            "{2, 3}\n"
          ]
        }
      ]
    },
    {
      "cell_type": "code",
      "source": [
        "#21. Write a code to create a dictionary with the keys \"name\", \"age\", and \"city\", and print it.\n",
        "person = {\"name\": \"Arabinda\", \"age\": 25, \"city\": \"Kolkata\"}\n",
        "print(person)\n"
      ],
      "metadata": {
        "colab": {
          "base_uri": "https://localhost:8080/"
        },
        "id": "SQT1LbWu8NgP",
        "outputId": "55357519-4096-4b02-c362-492215cb9624"
      },
      "execution_count": 15,
      "outputs": [
        {
          "output_type": "stream",
          "name": "stdout",
          "text": [
            "{'name': 'Arabinda', 'age': 25, 'city': 'Kolkata'}\n"
          ]
        }
      ]
    },
    {
      "cell_type": "code",
      "source": [
        "#22. Write a code to add a new key-value pair \"country\": \"USA\" to the dictionary {'name': 'John', 'age': 25}.\n",
        "person = {'name': 'Arabinda', 'age': 25}\n",
        "person[\"country\"] = \"India\"\n",
        "print(person)\n"
      ],
      "metadata": {
        "colab": {
          "base_uri": "https://localhost:8080/"
        },
        "id": "2di4Wh6c8bbO",
        "outputId": "1f8c4a5a-56e8-4c34-b3d9-178c3277d301"
      },
      "execution_count": 16,
      "outputs": [
        {
          "output_type": "stream",
          "name": "stdout",
          "text": [
            "{'name': 'Arabinda', 'age': 25, 'country': 'India'}\n"
          ]
        }
      ]
    },
    {
      "cell_type": "code",
      "source": [
        "#23.Write a code to access the value associated with the key \"name\" in the dictionary {'name': 'Alice', 'age': 30}.\n",
        "person = {'name': 'Alice', 'age': 30}\n",
        "print(person[\"name\"])\n"
      ],
      "metadata": {
        "colab": {
          "base_uri": "https://localhost:8080/"
        },
        "id": "YcNWh-lK837u",
        "outputId": "e6d8448b-81cf-4bab-e922-a706c612ede6"
      },
      "execution_count": 17,
      "outputs": [
        {
          "output_type": "stream",
          "name": "stdout",
          "text": [
            "Alice\n"
          ]
        }
      ]
    },
    {
      "cell_type": "code",
      "source": [
        "#24.Write a code to remove the key \"age\" from the dictionary {'name': 'Bob', 'age': 22, 'city': 'New York'}.\n",
        "person = {'name': 'Bob', 'age': 22, 'city': 'New York'}\n",
        "person.pop(\"age\")\n",
        "print(person)\n"
      ],
      "metadata": {
        "colab": {
          "base_uri": "https://localhost:8080/"
        },
        "id": "9yYn2mUI9Ehp",
        "outputId": "39c1b617-1f47-4777-862f-ccbeddb4802e"
      },
      "execution_count": 18,
      "outputs": [
        {
          "output_type": "stream",
          "name": "stdout",
          "text": [
            "{'name': 'Bob', 'city': 'New York'}\n"
          ]
        }
      ]
    },
    {
      "cell_type": "code",
      "source": [
        "#25.Write a code to check if the key \"city\" exists in the dictionary {'name': 'Alice', 'city': 'Paris'}.\n",
        "person = {'name': 'Alice', 'city': 'Paris'}\n",
        "print(\"city\" in person)\n"
      ],
      "metadata": {
        "colab": {
          "base_uri": "https://localhost:8080/"
        },
        "id": "k2vI0IPv9Lkj",
        "outputId": "1c9509ab-a76a-4c00-99fe-6cdf7ae87f61"
      },
      "execution_count": 19,
      "outputs": [
        {
          "output_type": "stream",
          "name": "stdout",
          "text": [
            "True\n"
          ]
        }
      ]
    },
    {
      "cell_type": "code",
      "source": [
        "#26.Write a code to create a list, a tuple, and a dictionary, and print them all.\n",
        "lst = [1, 2, 3]\n",
        "tpl = (4, 5, 6)\n",
        "dct = {\"a\": 1, \"b\": 2}\n",
        "print(lst, tpl, dct)\n"
      ],
      "metadata": {
        "colab": {
          "base_uri": "https://localhost:8080/"
        },
        "id": "6UPaWagD9fHm",
        "outputId": "3c2aea4c-cd5b-44a3-ee3e-d1d12f8cc65f"
      },
      "execution_count": 20,
      "outputs": [
        {
          "output_type": "stream",
          "name": "stdout",
          "text": [
            "[1, 2, 3] (4, 5, 6) {'a': 1, 'b': 2}\n"
          ]
        }
      ]
    },
    {
      "cell_type": "code",
      "source": [
        "#27.Write a code to create a list of 5 random numbers between 1 and 100, sort it in ascending order, and print the result.(replaced)\n",
        "import random\n",
        "lst = random.sample(range(1, 101), 5)\n",
        "lst.sort()\n",
        "print(lst)\n"
      ],
      "metadata": {
        "colab": {
          "base_uri": "https://localhost:8080/"
        },
        "id": "Sj7vTXjw9nyf",
        "outputId": "1987d60b-83e5-4a13-e6b5-60261703e5ed"
      },
      "execution_count": 21,
      "outputs": [
        {
          "output_type": "stream",
          "name": "stdout",
          "text": [
            "[1, 22, 58, 83, 87]\n"
          ]
        }
      ]
    },
    {
      "cell_type": "code",
      "source": [
        "#28.Write a code to create a list with strings and print the element at the third index.\n",
        "words = [\"apple\", \"banana\", \"cherry\", \"date\", \"fig\"]\n",
        "print(words[3])\n"
      ],
      "metadata": {
        "colab": {
          "base_uri": "https://localhost:8080/"
        },
        "id": "XZLLWLY0990g",
        "outputId": "612940ff-ff35-462e-9eea-bcadbff28d07"
      },
      "execution_count": 22,
      "outputs": [
        {
          "output_type": "stream",
          "name": "stdout",
          "text": [
            "date\n"
          ]
        }
      ]
    },
    {
      "cell_type": "code",
      "source": [
        "#29.Write a code to combine two dictionaries into one and print the result.\n",
        "dict1 = {\"a\": 1, \"b\": 2}\n",
        "dict2 = {\"c\": 3, \"d\": 4}\n",
        "combined = {**dict1, **dict2}\n",
        "print(combined)\n"
      ],
      "metadata": {
        "colab": {
          "base_uri": "https://localhost:8080/"
        },
        "id": "wg5qvU0O-Fsw",
        "outputId": "80ea9995-0186-45f5-9a08-69006d47a789"
      },
      "execution_count": 23,
      "outputs": [
        {
          "output_type": "stream",
          "name": "stdout",
          "text": [
            "{'a': 1, 'b': 2, 'c': 3, 'd': 4}\n"
          ]
        }
      ]
    },
    {
      "cell_type": "code",
      "source": [
        "#30.Write a code to convert a list of strings into a set.\n",
        "str_list = [\"apple\", \"banana\", \"cherry\"]\n",
        "str_set = set(str_list)\n",
        "print(str_set)\n"
      ],
      "metadata": {
        "colab": {
          "base_uri": "https://localhost:8080/"
        },
        "id": "1zpGlv5h-Oi-",
        "outputId": "185c5a16-2870-4b4c-952b-fa36504fbe01"
      },
      "execution_count": 24,
      "outputs": [
        {
          "output_type": "stream",
          "name": "stdout",
          "text": [
            "{'cherry', 'apple', 'banana'}\n"
          ]
        }
      ]
    },
    {
      "cell_type": "code",
      "source": [],
      "metadata": {
        "id": "MblyfwAr-WRa"
      },
      "execution_count": null,
      "outputs": []
    }
  ]
}